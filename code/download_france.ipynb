{
 "cells": [
  {
   "cell_type": "markdown",
   "id": "ce14af43-ec8d-4f1e-bac5-1bb330f823cc",
   "metadata": {},
   "source": [
    "# Download buildings in France"
   ]
  },
  {
   "cell_type": "code",
   "execution_count": 28,
   "id": "b8c303bf-68bc-47d3-858f-196a2e477ced",
   "metadata": {},
   "outputs": [],
   "source": [
    "import os\n",
    "import requests\n",
    "import subprocess\n",
    "import py7zr\n",
    "import geopandas as gpd"
   ]
  },
  {
   "cell_type": "code",
   "execution_count": 8,
   "id": "0e8c8af7-47e8-4f5a-a292-c51a093c5072",
   "metadata": {},
   "outputs": [],
   "source": [
    "# Base URL\n",
    "BASE_URL = \"https://data.geopf.fr/telechargement/download/BDTOPO/BDTOPO_3-5_TOUSTHEMES_GPKG_WGS84G_FRA_2025-06-15\"\n",
    "\n",
    "# All parts\n",
    "PARTS = [f\"{BASE_URL}/BDTOPO_3-5_TOUSTHEMES_GPKG_WGS84G_FRA_2025-06-15.7z.{i:03d}\" for i in range(1, 10)]\n",
    "\n",
    "# Local dirs\n",
    "DOWNLOAD_DIR = \"/data/uscuni-ulce/extension/france/download\"\n",
    "EXTRACT_DIR = \"/data/uscuni-ulce/extension/france/extracted\""
   ]
  },
  {
   "cell_type": "markdown",
   "id": "14bae87e-8786-40f8-93de-ce80223b5b8f",
   "metadata": {},
   "source": [
    "Download archive."
   ]
  },
  {
   "cell_type": "code",
   "execution_count": null,
   "id": "142f6a25-e35a-4fad-9ecf-98691c898464",
   "metadata": {},
   "outputs": [],
   "source": [
    "# Step 1: Download all parts with wget (resumable)\n",
    "for url in PARTS:\n",
    "    fname = os.path.join(DOWNLOAD_DIR, os.path.basename(url))\n",
    "    if os.path.exists(fname):\n",
    "        print(f\"✅ Already downloaded: {fname}\")\n",
    "    print(f\"⬇️ Downloading {url}\")\n",
    "    subprocess.run([\"wget\", \"-c\", \"-O\", fname, url], check=True)\n"
   ]
  },
  {
   "cell_type": "markdown",
   "id": "890bdafc-b987-4a9c-9b36-921e439b691a",
   "metadata": {},
   "source": [
    "Concatenate."
   ]
  },
  {
   "cell_type": "code",
   "execution_count": 18,
   "id": "9601896c-ce34-4778-a432-e09d120b9484",
   "metadata": {
    "scrolled": true
   },
   "outputs": [
    {
     "name": "stdout",
     "output_type": "stream",
     "text": [
      "🔗 Concatenating parts...\n",
      "  Adding /data/uscuni-ulce/extension/france/download/BDTOPO_3-5_TOUSTHEMES_GPKG_WGS84G_FRA_2025-06-15.7z.001\n",
      "  Adding /data/uscuni-ulce/extension/france/download/BDTOPO_3-5_TOUSTHEMES_GPKG_WGS84G_FRA_2025-06-15.7z.002\n",
      "  Adding /data/uscuni-ulce/extension/france/download/BDTOPO_3-5_TOUSTHEMES_GPKG_WGS84G_FRA_2025-06-15.7z.003\n",
      "  Adding /data/uscuni-ulce/extension/france/download/BDTOPO_3-5_TOUSTHEMES_GPKG_WGS84G_FRA_2025-06-15.7z.004\n",
      "  Adding /data/uscuni-ulce/extension/france/download/BDTOPO_3-5_TOUSTHEMES_GPKG_WGS84G_FRA_2025-06-15.7z.005\n",
      "  Adding /data/uscuni-ulce/extension/france/download/BDTOPO_3-5_TOUSTHEMES_GPKG_WGS84G_FRA_2025-06-15.7z.006\n",
      "  Adding /data/uscuni-ulce/extension/france/download/BDTOPO_3-5_TOUSTHEMES_GPKG_WGS84G_FRA_2025-06-15.7z.007\n",
      "  Adding /data/uscuni-ulce/extension/france/download/BDTOPO_3-5_TOUSTHEMES_GPKG_WGS84G_FRA_2025-06-15.7z.008\n",
      "  Adding /data/uscuni-ulce/extension/france/download/BDTOPO_3-5_TOUSTHEMES_GPKG_WGS84G_FRA_2025-06-15.7z.009\n",
      "✅ Combined archive saved as: /data/uscuni-ulce/extension/france/download/full_france.7z\n"
     ]
    }
   ],
   "source": [
    "PARTS = [\n",
    "    \"BDTOPO_3-5_TOUSTHEMES_GPKG_WGS84G_FRA_2025-06-15.7z.001\",\n",
    "    \"BDTOPO_3-5_TOUSTHEMES_GPKG_WGS84G_FRA_2025-06-15.7z.002\",\n",
    "    \"BDTOPO_3-5_TOUSTHEMES_GPKG_WGS84G_FRA_2025-06-15.7z.003\",\n",
    "    \"BDTOPO_3-5_TOUSTHEMES_GPKG_WGS84G_FRA_2025-06-15.7z.004\",\n",
    "    \"BDTOPO_3-5_TOUSTHEMES_GPKG_WGS84G_FRA_2025-06-15.7z.005\",\n",
    "    \"BDTOPO_3-5_TOUSTHEMES_GPKG_WGS84G_FRA_2025-06-15.7z.006\",\n",
    "    \"BDTOPO_3-5_TOUSTHEMES_GPKG_WGS84G_FRA_2025-06-15.7z.007\",\n",
    "    \"BDTOPO_3-5_TOUSTHEMES_GPKG_WGS84G_FRA_2025-06-15.7z.008\",\n",
    "    \"BDTOPO_3-5_TOUSTHEMES_GPKG_WGS84G_FRA_2025-06-15.7z.009\",\n",
    "]\n",
    "\n",
    "COMBINED_ARCHIVE = os.path.join(DOWNLOAD_DIR, \"full_france.7z\")\n",
    "\n",
    "# -------------------------\n",
    "# Step 1: Concatenate parts\n",
    "# -------------------------\n",
    "print(\"🔗 Concatenating parts...\")\n",
    "with open(COMBINED_ARCHIVE, \"wb\") as wfd:\n",
    "    for part in PARTS:\n",
    "        part_path = os.path.join(DOWNLOAD_DIR, part)\n",
    "        print(f\"  Adding {part_path}\")\n",
    "        with open(part_path, \"rb\") as fd:\n",
    "            while True:\n",
    "                chunk = fd.read(10_000_000)  # 10 MB chunks\n",
    "                if not chunk:\n",
    "                    break\n",
    "                wfd.write(chunk)\n",
    "print(f\"✅ Combined archive saved as: {COMBINED_ARCHIVE}\")"
   ]
  },
  {
   "cell_type": "markdown",
   "id": "a1c2bacb-f4c5-41c7-abaf-5dc64affe09c",
   "metadata": {},
   "source": [
    "Extract."
   ]
  },
  {
   "cell_type": "code",
   "execution_count": 19,
   "id": "52270a73-f620-4c6d-82b2-f5a4b7a8e0ca",
   "metadata": {},
   "outputs": [
    {
     "name": "stdout",
     "output_type": "stream",
     "text": [
      "📦 Extracting /data/uscuni-ulce/extension/france/download/full_france.7z ...\n",
      "🎉 Extracted to: /data/uscuni-ulce/extension/france/extracted\n"
     ]
    }
   ],
   "source": [
    "print(f\"📦 Extracting {COMBINED_ARCHIVE} ...\")\n",
    "os.makedirs(EXTRACT_DIR, exist_ok=True)\n",
    "with py7zr.SevenZipFile(COMBINED_ARCHIVE, mode=\"r\") as archive:\n",
    "    archive.extractall(path=EXTRACT_DIR)\n",
    "\n",
    "print(f\"🎉 Extracted to: {EXTRACT_DIR}\")"
   ]
  },
  {
   "cell_type": "code",
   "execution_count": 25,
   "id": "9be9ff66-905f-41bf-a2f5-e596ea131cce",
   "metadata": {},
   "outputs": [
    {
     "name": "stdout",
     "output_type": "stream",
     "text": [
      "batiment.gpkg\t\t       construction_surfacique.gpkg\n",
      "batiment_rnb_lien_bdtopo.gpkg  ligne_orographique.gpkg\n",
      "cimetiere.gpkg\t\t       pylone.gpkg\n",
      "construction_lineaire.gpkg     reservoir.gpkg\n",
      "construction_ponctuelle.gpkg   terrain_de_sport.gpkg\n"
     ]
    }
   ],
   "source": [
    "!ls /data/uscuni-ulce/extension/france/extracted/BDTOPO_3-5_TOUSTHEMES_GPKG_WGS84G_FRA_2025-06-15/BDTOPO/1_DONNEES_LIVRAISON_2025-06-00371/BDT_3-5_GPKG_WGS84G_FRA-ED2025-06-15/BATI/batiment.gpkg"
   ]
  },
  {
   "cell_type": "code",
   "execution_count": null,
   "id": "e25627ea-25bd-45f4-b5e2-95db808b6c2e",
   "metadata": {},
   "outputs": [],
   "source": [
    "bati = gpd.read_file(\"/data/uscuni-ulce/extension/france/extracted/BDTOPO_3-5_TOUSTHEMES_GPKG_WGS84G_FRA_2025-06-15/BDTOPO/1_DONNEES_LIVRAISON_2025-06-00371/BDT_3-5_GPKG_WGS84G_FRA-ED2025-06-15/BATI/batiment.gpkg\")\n",
    "bati"
   ]
  }
 ],
 "metadata": {
  "kernelspec": {
   "display_name": "Python 3 (ipykernel)",
   "language": "python",
   "name": "python3"
  },
  "language_info": {
   "codemirror_mode": {
    "name": "ipython",
    "version": 3
   },
   "file_extension": ".py",
   "mimetype": "text/x-python",
   "name": "python",
   "nbconvert_exporter": "python",
   "pygments_lexer": "ipython3",
   "version": "3.12.11"
  }
 },
 "nbformat": 4,
 "nbformat_minor": 5
}
