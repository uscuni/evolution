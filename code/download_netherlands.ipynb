{
 "cells": [
  {
   "cell_type": "code",
   "execution_count": 7,
   "id": "0345db98-1b57-4a44-b06c-a41afab3818a",
   "metadata": {},
   "outputs": [],
   "source": [
    "import os\n",
    "import requests\n",
    "from osgeo import ogr\n",
    "import subprocess"
   ]
  },
  {
   "cell_type": "code",
   "execution_count": null,
   "id": "024bfd8e-de5d-4530-bba8-ef63f7c7f04e",
   "metadata": {},
   "outputs": [],
   "source": [
    "# URL for the GeoPackage SOZip (example from docs)\n",
    "URL = \"https://data.3dbag.nl/v20250903/3dbag_nl.gpkg.zip\"\n",
    "LOCAL_FILE = \"/data/uscuni-ulce/extension/netherlands/nl_3dbag.gpkg.zip\"\n",
    "\n",
    "if os.path.exists(LOCAL_FILE):\n",
    "    print(f\"✅ Already downloaded: {LOCAL_FILE}\")\n",
    "else:\n",
    "    print(f\"⬇️ Downloading {URL} to {LOCAL_FILE}\")\n",
    "    subprocess.run([\"wget\", \"-c\", \"-O\", LOCAL_FILE, URL], check=True)\n",
    "    print(f\"✅ Download finished: {LOCAL_FILE}\")"
   ]
  },
  {
   "cell_type": "code",
   "execution_count": 9,
   "id": "cdc2c500-baa6-4149-98d8-e9202c73ea54",
   "metadata": {},
   "outputs": [
    {
     "name": "stderr",
     "output_type": "stream",
     "text": [
      "/home/eliska/evolution/.pixi/envs/default/lib/python3.12/site-packages/osgeo/ogr.py:601: FutureWarning: Neither ogr.UseExceptions() nor ogr.DontUseExceptions() has been explicitly called. In GDAL 4.0, exceptions will be enabled by default.\n",
      "  warnings.warn(\n"
     ]
    }
   ],
   "source": [
    "# Open zipped GPKG\n",
    "path = f\"/vsizip/{LOCAL_FILE}\"\n",
    "gpkg = ogr.Open(path)\n",
    "if not gpkg:\n",
    "    raise RuntimeError(\"❌ Could not open GeoPackage\")"
   ]
  },
  {
   "cell_type": "code",
   "execution_count": 10,
   "id": "fc39026b-b3d6-433b-888c-d0398f64c4dc",
   "metadata": {},
   "outputs": [
    {
     "name": "stdout",
     "output_type": "stream",
     "text": [
      "0: lod12_3d (10783975 features)\n",
      "1: lod12_2d (10783944 features)\n",
      "2: lod13_3d (10783975 features)\n",
      "3: lod13_2d (14141553 features)\n",
      "4: lod22_3d (10783975 features)\n",
      "5: lod22_2d (30111228 features)\n",
      "6: pand (10771547 features)\n"
     ]
    }
   ],
   "source": [
    "for i in range(gpkg.GetLayerCount()):\n",
    "    layer = gpkg.GetLayerByIndex(i)\n",
    "    name = layer.GetName()\n",
    "    count = layer.GetFeatureCount()\n",
    "    print(f\"{i}: {name} ({count} features)\")"
   ]
  },
  {
   "cell_type": "code",
   "execution_count": 13,
   "id": "84fc6980-420e-4d9d-9e12-37a1cde4b0b4",
   "metadata": {},
   "outputs": [
    {
     "name": "stderr",
     "output_type": "stream",
     "text": [
      "Warning 1: Layer 'pand' has been declared with non-Z geometry type Polygon, but it does contain geometries with Z. Setting the Z=2 hint into gpkg_geometry_columns\n"
     ]
    },
    {
     "name": "stdout",
     "output_type": "stream",
     "text": [
      "✅ Saved layer: pand\n",
      "✅ Subset saved to: /data/uscuni-ulce/extension/netherlands/nl_pand.gpkg\n"
     ]
    }
   ],
   "source": [
    "# Step 3: Copy selected layers to new GPKG\n",
    "\n",
    "OUTPUT_FILE = \"/data/uscuni-ulce/extension/netherlands/nl_pand.gpkg\"\n",
    "driver = ogr.GetDriverByName(\"GPKG\")\n",
    "out_ds = driver.CreateDataSource(OUTPUT_FILE)\n",
    "\n",
    "layer_name = \"pand\"\n",
    "layer = gpkg.GetLayerByName(layer_name)\n",
    "\n",
    "out_layer = out_ds.CopyLayer(layer, layer_name)\n",
    "print(f\"✅ Saved layer: {layer_name}\")\n",
    "\n",
    "out_ds = None  # close file\n",
    "print(f\"✅ Subset saved to: {OUTPUT_FILE}\")"
   ]
  },
  {
   "cell_type": "code",
   "execution_count": 14,
   "id": "a32d6919-0943-4ba0-9c77-a12e8a159f2a",
   "metadata": {},
   "outputs": [
    {
     "data": {
      "text/plain": [
       "<osgeo.ogr.Layer; proxy of <Swig Object of type 'OGRLayerShadow *' at 0x7f0816be2f40> >"
      ]
     },
     "execution_count": 14,
     "metadata": {},
     "output_type": "execute_result"
    }
   ],
   "source": [
    "layer"
   ]
  },
  {
   "cell_type": "code",
   "execution_count": null,
   "id": "324e1cc4-16f7-4aeb-ad6e-37f2942b29c2",
   "metadata": {},
   "outputs": [],
   "source": []
  }
 ],
 "metadata": {
  "kernelspec": {
   "display_name": "Python 3 (ipykernel)",
   "language": "python",
   "name": "python3"
  },
  "language_info": {
   "codemirror_mode": {
    "name": "ipython",
    "version": 3
   },
   "file_extension": ".py",
   "mimetype": "text/x-python",
   "name": "python",
   "nbconvert_exporter": "python",
   "pygments_lexer": "ipython3",
   "version": "3.12.11"
  }
 },
 "nbformat": 4,
 "nbformat_minor": 5
}
