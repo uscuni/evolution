{
 "cells": [
  {
   "cell_type": "markdown",
   "id": "8b0f051d-becc-4b2f-ba7e-5cee5d24d133",
   "metadata": {},
   "source": [
    "Download construction age for German residential building stock.\n",
    "\n",
    "Source: https://zenodo.org/records/13771740"
   ]
  },
  {
   "cell_type": "code",
   "execution_count": 1,
   "id": "8ba670f7-8687-41f6-93bf-5b94e6818530",
   "metadata": {},
   "outputs": [],
   "source": [
    "import httpx\n",
    "import os"
   ]
  },
  {
   "cell_type": "code",
   "execution_count": 2,
   "id": "2e53bbf3-5c3a-4d58-9112-1661f9710ba8",
   "metadata": {},
   "outputs": [],
   "source": [
    "base = 'https://zenodo.org/records/11845992/files/DE'"
   ]
  },
  {
   "cell_type": "code",
   "execution_count": 3,
   "id": "174b4913-d775-431e-bc41-92d96440362c",
   "metadata": {},
   "outputs": [],
   "source": [
    "variants = list(range(1, 10)) + list('ABCDEFG')"
   ]
  },
  {
   "cell_type": "code",
   "execution_count": 4,
   "id": "9e91934d-9074-4807-8ebe-0764c73f9dc6",
   "metadata": {},
   "outputs": [],
   "source": [
    "path = '/data/uscuni-ulce/germany_heigths/'"
   ]
  },
  {
   "cell_type": "code",
   "execution_count": 5,
   "id": "48ed8a7e-c499-47d4-84de-b657a409b9dc",
   "metadata": {},
   "outputs": [],
   "source": [
    "os.mkdir(path)"
   ]
  },
  {
   "cell_type": "code",
   "execution_count": null,
   "id": "705f414d-3aae-44bc-a9db-999e9f36a45d",
   "metadata": {},
   "outputs": [
    {
     "name": "stdout",
     "output_type": "stream",
     "text": [
      "1\n"
     ]
    }
   ],
   "source": [
    "for var in variants:\n",
    "    print(var)\n",
    "    r = httpx.get(base + f'{var}.csv?download=1')\n",
    "    with open(f'{path}DE{var}.csv', 'wb') as f:\n",
    "        f.write(r.content)"
   ]
  },
  {
   "cell_type": "code",
   "execution_count": null,
   "id": "e2cc7436-2734-4c7f-ab56-4a219440b621",
   "metadata": {},
   "outputs": [],
   "source": []
  }
 ],
 "metadata": {
  "kernelspec": {
   "display_name": "Python 3 (ipykernel)",
   "language": "python",
   "name": "python3"
  },
  "language_info": {
   "codemirror_mode": {
    "name": "ipython",
    "version": 3
   },
   "file_extension": ".py",
   "mimetype": "text/x-python",
   "name": "python",
   "nbconvert_exporter": "python",
   "pygments_lexer": "ipython3",
   "version": "3.12.11"
  }
 },
 "nbformat": 4,
 "nbformat_minor": 5
}
