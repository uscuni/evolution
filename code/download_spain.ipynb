{
 "cells": [
  {
   "cell_type": "markdown",
   "id": "76c37f4c-6533-4a58-9df1-6f11e938cf53",
   "metadata": {},
   "source": [
    "# Download Spain"
   ]
  },
  {
   "cell_type": "code",
   "execution_count": 9,
   "id": "9c6680a6-ba24-400d-a430-d87bca7edee5",
   "metadata": {},
   "outputs": [],
   "source": [
    "import requests\n",
    "import xml.etree.ElementTree as ET\n",
    "import zipfile\n",
    "import io\n",
    "import geopandas as gpd\n",
    "import pandas as pd\n",
    "import os\n",
    "import time\n",
    "import fiona"
   ]
  },
  {
   "cell_type": "code",
   "execution_count": 10,
   "id": "20ea7852-24e7-4143-81c5-4381821f3bad",
   "metadata": {},
   "outputs": [],
   "source": [
    "BASE_URL = \"https://www.catastro.hacienda.gob.es/INSPIRE/buildings/ES.SDGC.BU.atom.xml\"\n",
    "OUT_DIR_MAIN = \"/data/uscuni-ulce/extension/spain\"\n",
    "CAT_DOMAIN = \"https://www.catastro.hacienda.gob.es/INSPIRE/\""
   ]
  },
  {
   "cell_type": "code",
   "execution_count": null,
   "id": "a7923bcb-09f1-4ecd-b128-f7486d991c52",
   "metadata": {},
   "outputs": [],
   "source": [
    "def get_feed_entries(url):\n",
    "    \"\"\"Return list of dicts with 'title', 'link', 'id' from an ATOM feed.\"\"\"\n",
    "    try:\n",
    "        r = requests.get(url, timeout=30)  # ⬅ timeout avoids infinite hanging\n",
    "        r.raise_for_status()\n",
    "    except requests.exceptions.RequestException as e:\n",
    "        print(f\"Skipping feed {url} due to error: {e}\")\n",
    "        return []\n",
    "\n",
    "    root = ET.fromstring(r.content)\n",
    "    ns = {\"atom\": \"http://www.w3.org/2005/Atom\"}\n",
    "\n",
    "    entries = []\n",
    "    for entry in root.findall(\"atom:entry\", ns):\n",
    "        title = entry.find(\"atom:title\", ns).text\n",
    "        link = entry.find(\"atom:link\", ns).attrib[\"href\"]\n",
    "        id_elt = entry.find(\"atom:id\", ns)\n",
    "        entries.append({\n",
    "            \"title\": title,\n",
    "            \"link\": link,\n",
    "            \"id\": id_elt.text if id_elt is not None else None,\n",
    "        })\n",
    "    return entries\n",
    "\n",
    "provinces = get_feed_entries(BASE_URL)\n",
    "print(provinces)"
   ]
  },
  {
   "cell_type": "code",
   "execution_count": null,
   "id": "87afb66d-ab5c-4542-b5a1-5593043bd100",
   "metadata": {},
   "outputs": [],
   "source": [
    "for p_idx, prov in enumerate(provinces):\n",
    "\n",
    "    print(f\"\\nProvince {p_idx}: {prov['title']}\")\n",
    "\n",
    "    # Step 2: get municipalities in this province\n",
    "    municipalities = get_feed_entries(prov[\"link\"])\n",
    "    print(f\"  -> {len(municipalities)} municipalities\")\n",
    "\n",
    "    for m_idx, muni in enumerate(municipalities):\n",
    "        # Generate a safe filename for each municipality\n",
    "        muni_id = muni[\"id\"] if muni[\"id\"] else f\"muni_{p_idx:02d}_{m_idx:04d}\"\n",
    "        muni_id_safe = muni_id.replace(\"/\", \"_\")\n",
    "        \n",
    "        try:\n",
    "            r = requests.get(muni[\"link\"], timeout=120)\n",
    "            r.raise_for_status()\n",
    "        except Exception as e:\n",
    "            print(f\"    Download failed: {e}\")\n",
    "            continue\n",
    "\n",
    "        try:\n",
    "            with zipfile.ZipFile(io.BytesIO(r.content)) as z:\n",
    "                building_files = [m for m in z.namelist() if m.lower().endswith(\"building.gml\")]\n",
    "                for member in building_files:\n",
    "                    # Save using just the GML filename\n",
    "                    out_path = os.path.join(OUT_DIR_MAIN, os.path.basename(member))\n",
    "                    with z.open(member) as src, open(out_path, \"wb\") as dst:\n",
    "                        dst.write(src.read())\n",
    "                    print(f\"Saved {out_path}\")\n",
    "\n",
    "        except Exception as e:\n",
    "            print(f\"    Failed processing {muni_id}: {e}\")\n",
    "\n",
    "        time.sleep(0.2)  # polite delay\n"
   ]
  },
  {
   "cell_type": "markdown",
   "id": "cc6b36ec-e84d-409d-b8bf-1855366b962e",
   "metadata": {},
   "source": [
    "## Download Basque Country sepearately"
   ]
  },
  {
   "cell_type": "code",
   "execution_count": 11,
   "id": "8795edfc-0c06-4a9e-b91d-6cdd46a1df3e",
   "metadata": {},
   "outputs": [],
   "source": [
    "special_provinces = [\n",
    "    \"https://geo.araba.eus/atom/BU/Buildings.atom\",\n",
    "    \"https://apli.bizkaia.eus/apps/Danok/INSPIRE/buildings.xml\",\n",
    "    \"https://b5m.gipuzkoa.eus/inspire/download/buildings.xml\",\n",
    "    \"https://filescartografia.navarra.es/2_CARTOGRAFIA_TEMATICA/2_7_CATASTRO/2_7_3_INSPIRE_ATOM/2_7_3_2_BU/Buildings_ServiceATOM_Navarra.xml\"\n",
    "]\n",
    "\n",
    "OUT_DIR_BASQUE = \"/data/uscuni-ulce/extension/basque\""
   ]
  },
  {
   "cell_type": "code",
   "execution_count": 15,
   "id": "79b08262-4400-4d97-b300-9313eefc2a32",
   "metadata": {},
   "outputs": [],
   "source": [
    "# Example ATOM feed for Gipuzkoa\n",
    "url = \"https://b5m.gipuzkoa.eus/inspire/download/buildings.xml\"\n",
    "\n",
    "r = requests.get(url, timeout=120)\n",
    "r.raise_for_status()\n",
    "root = ET.fromstring(r.content)\n",
    "ns = {\"atom\": \"http://www.w3.org/2005/Atom\"}\n",
    "\n",
    "for entry in root.findall(\"atom:entry\", ns):\n",
    "    alt_link = entry.find(\"atom:link[@rel='alternate']\", ns)\n",
    "    if alt_link is not None:\n",
    "        zip_url = alt_link.attrib[\"href\"]\n",
    "        print(f\"Downloading {zip_url} ...\")\n",
    "        r2 = requests.get(zip_url, timeout=120)\n",
    "        r2.raise_for_status()\n",
    "        with zipfile.ZipFile(io.BytesIO(r2.content)) as z:\n",
    "            for gml_file in z.namelist():\n",
    "                if gml_file.lower().endswith(\".gml\"):\n",
    "                    outpath = os.path.join(OUT_DIR, os.path.basename(gml_file))\n",
    "                    with z.open(gml_file) as src, open(outpath, \"wb\") as dst:\n",
    "                        dst.write(src.read())\n",
    "                    print(f\"Saved {outpath}\")"
   ]
  },
  {
   "cell_type": "code",
   "execution_count": 1,
   "id": "fe48837e-4909-4250-a23d-e1b314a5f997",
   "metadata": {},
   "outputs": [
    {
     "name": "stdout",
     "output_type": "stream",
     "text": [
      "ES.BFA.BU.013.gfs  ES.GFA.BU.gml  ES.GFA.BUO.gml  araba_alava  gipuzkoa\n"
     ]
    }
   ],
   "source": [
    "!ls \"/data/uscuni-ulce/extension/basque\""
   ]
  },
  {
   "cell_type": "code",
   "execution_count": 15,
   "id": "8084060f-3e47-49fd-b208-3f30ff21e8f1",
   "metadata": {},
   "outputs": [
    {
     "name": "stdout",
     "output_type": "stream",
     "text": [
      "Downloading https://apli.bizkaia.eus/apps/Danok/INSPIRE/ES.BFA.BU.020.zip ...\n",
      "  -> Saved /data/uscuni-ulce/extension/basque/ES.BFA.BU.020.gml\n"
     ]
    }
   ],
   "source": [
    "# Loop from 1 to 915\n",
    "for idx in range(1,915):\n",
    "    # Make URL with leading zeros (e.g., 001, 002)\n",
    "    zip_url = f\"https://apli.bizkaia.eus/apps/Danok/INSPIRE/ES.BFA.BU.{str(idx).zfill(3)}.zip\"\n",
    "    print(f\"Downloading {zip_url} ...\")\n",
    "    \n",
    "    try:\n",
    "        r = requests.get(zip_url, timeout=60)\n",
    "        r.raise_for_status()\n",
    "    except Exception as e:\n",
    "        print(f\"  -> Failed to download {zip_url}: {e}\")\n",
    "        continue\n",
    "\n",
    "    # Open ZIP in memory\n",
    "    with zipfile.ZipFile(io.BytesIO(r.content)) as z:\n",
    "        # Find GML file\n",
    "        gml_file_name = [f for f in z.namelist() if f.lower().endswith(\".gml\")]\n",
    "        if not gml_file_name:\n",
    "            print(f\"  -> No GML found in {zip_url}\")\n",
    "            continue\n",
    "        \n",
    "        gml_file_name = gml_file_name[0]\n",
    "        \n",
    "        # Extract GML and save with unique name\n",
    "        new_gml_name = f\"ES.BFA.BU.{str(idx).zfill(3)}.gml\"\n",
    "        gml_path = os.path.join(OUT_DIR_BASQUE, new_gml_name)\n",
    "        \n",
    "        with z.open(gml_file_name) as gml_file, open(gml_path, \"wb\") as f_out:\n",
    "            f_out.write(gml_file.read())\n",
    "        \n",
    "        print(f\"  -> Saved {gml_path}\")"
   ]
  }
 ],
 "metadata": {
  "kernelspec": {
   "display_name": "Python 3 (ipykernel)",
   "language": "python",
   "name": "python3"
  },
  "language_info": {
   "codemirror_mode": {
    "name": "ipython",
    "version": 3
   },
   "file_extension": ".py",
   "mimetype": "text/x-python",
   "name": "python",
   "nbconvert_exporter": "python",
   "pygments_lexer": "ipython3",
   "version": "3.12.11"
  }
 },
 "nbformat": 4,
 "nbformat_minor": 5
}
